{
 "cells": [
  {
   "cell_type": "markdown",
   "metadata": {},
   "source": [
    "## Задача 2:\n",
    "На складе лежат разные фрукты в разном количестве.<br>\n",
    "Нужно написать функцию, которая на вход принимает любое количество названий фруктов и их количество,<br>\n",
    "а возвращает общее количество фруктов на складе"
   ]
  },
  {
   "cell_type": "markdown",
   "metadata": {},
   "source": [
    "на входе словари:"
   ]
  },
  {
   "cell_type": "code",
   "execution_count": 1,
   "metadata": {},
   "outputs": [
    {
     "name": "stdout",
     "output_type": "stream",
     "text": [
      "{'Всего фруктов': 25}\n"
     ]
    }
   ],
   "source": [
    "def fr_calc(*args: dict) -> dict:\n",
    "    summ=0\n",
    "    for i in range(len(args)):\n",
    "        summ += sum(args[i].values())\n",
    "    return {'Всего фруктов': summ}\n",
    "\n",
    "print(fr_calc({'яблоки': 5}, {'груши': 8}, {'апельсины': 12}))"
   ]
  },
  {
   "cell_type": "markdown",
   "metadata": {},
   "source": [
    "или чуть корче:"
   ]
  },
  {
   "cell_type": "code",
   "execution_count": 2,
   "metadata": {},
   "outputs": [
    {
     "name": "stdout",
     "output_type": "stream",
     "text": [
      "{'Всего фруктов': 25}\n"
     ]
    }
   ],
   "source": [
    "def fr_calc(*args: dict) -> dict:\n",
    "    return {'Всего фруктов': sum(sum(args[i].values()) for i in range(len(args)))}\n",
    "\n",
    "print(fr_calc({'яблоки': 5}, {'груши': 8}, {'апельсины': 12}))"
   ]
  },
  {
   "cell_type": "markdown",
   "metadata": {},
   "source": [
    "если на входе списки или кортежи, то будет ещё проще.<br>\n",
    "опять же не оговаривается формат вывода."
   ]
  },
  {
   "cell_type": "code",
   "execution_count": 3,
   "metadata": {},
   "outputs": [
    {
     "name": "stdout",
     "output_type": "stream",
     "text": [
      "Всего фруктов - 25\n"
     ]
    }
   ],
   "source": [
    "def fr_calc(*args: list) -> int:\n",
    "    return sum(args[i][1] for i in range(len(args)))\n",
    "\n",
    "summ=fr_calc(['яблоки', 5], ['груши', 8], ['апельсины', 12])\n",
    "print(f'Всего фруктов - {summ}')"
   ]
  },
  {
   "cell_type": "markdown",
   "metadata": {},
   "source": [
    "или ещё проще, зачем тут функция?<br>\n",
    "самый простой вариант<br>\n",
    "кроме того, ввод отдельно, обработка и вывод - отдельно<br>\n",
    "изменение входных данных никак не затрагивает всего остального"
   ]
  },
  {
   "cell_type": "code",
   "execution_count": 4,
   "metadata": {},
   "outputs": [
    {
     "name": "stdout",
     "output_type": "stream",
     "text": [
      "Всего фруктов - 25\n"
     ]
    }
   ],
   "source": [
    "spisok=(['яблоки',5],['груши',8],['апельсины',12])\n",
    "print(f'Всего фруктов - {sum(spisok[i][1] for i in range(len(spisok)))}')"
   ]
  },
  {
   "cell_type": "markdown",
   "metadata": {},
   "source": [
    "или так<br>\n",
    "предположительно, так задумывалось при составлении задания"
   ]
  },
  {
   "cell_type": "code",
   "execution_count": 5,
   "metadata": {},
   "outputs": [
    {
     "name": "stdout",
     "output_type": "stream",
     "text": [
      "Всего фруктов - 20\n"
     ]
    }
   ],
   "source": [
    "def fr_calc(**kwargs: int) -> int:\n",
    "    return sum(value for key, value in kwargs.items())\n",
    "\n",
    "print(f'Всего фруктов - {fr_calc(apple = 5, arbuz = 7, mango = 8)}')"
   ]
  },
  {
   "cell_type": "markdown",
   "metadata": {},
   "source": [
    "## Задача 3:\n",
    "Дан список с затратами на рекламу. Но в данных есть ошибки, некоторые затраты имеют отрицательную величину. Удалите такие значения из списка и посчитайте суммарные затраты<br>"
   ]
  },
  {
   "cell_type": "code",
   "execution_count": 6,
   "metadata": {},
   "outputs": [],
   "source": [
    "list_orig=[100, 125, -90, 345, 655, -1, 0, 200]"
   ]
  },
  {
   "cell_type": "markdown",
   "metadata": {},
   "source": [
    "Используйте list comprehensions"
   ]
  },
  {
   "cell_type": "code",
   "execution_count": 7,
   "metadata": {},
   "outputs": [
    {
     "name": "stdout",
     "output_type": "stream",
     "text": [
      "[100, 125, 345, 655, 0, 200]\n",
      "Суммарные затраты = 1425\n"
     ]
    }
   ],
   "source": [
    "[list_orig.remove(i) for i in list_orig if i<0] # просят именно удалить, а не создать новый список\n",
    "print(f'{list_orig}\\nСуммарные затраты = {sum(list_orig)}')\n"
   ]
  },
  {
   "cell_type": "markdown",
   "metadata": {},
   "source": [
    "## Задача 4:\n",
    "Даны два списка:<br>\n",
    "\"Дата покупки\" и \"Суммы покупок по датам\":"
   ]
  },
  {
   "cell_type": "code",
   "execution_count": 8,
   "metadata": {},
   "outputs": [],
   "source": [
    "list_date = ['2021-09-14', '2021-12-15', '2021-09-08', '2021-12-05', '2021-10-09', '2021-09-30', \n",
    "             '2021-12-22', '2021-11-29', '2021-12-24', '2021-11-26', '2021-10-27', '2021-12-18', \n",
    "             '2021-11-09', '2021-11-23', '2021-09-27', '2021-10-02', '2021-12-27', '2021-09-20', \n",
    "             '2021-12-13', '2021-11-01', '2021-11-09', '2021-12-06', '2021-12-08', '2021-10-09', \n",
    "             '2021-10-31', '2021-09-30', '2021-11-09', '2021-12-13', '2021-10-26', '2021-12-09']\n",
    "list_summ = [1270, 8413, 9028, 3703, 5739, 4095, 295, 4944, 5723, 3701, 4471, 651, 7037, 4274, 6275, \n",
    "             4988, 6930, 2971, 6592, 2004, 2822, 519, 3406, 2732, 5015, 2008, 316, 6333, 5700, 2887]"
   ]
  },
  {
   "cell_type": "markdown",
   "metadata": {},
   "source": [
    "### 4.1 Найдите, какая выручка у компании в ноябре\n",
    "Используйте list comprehensions\n"
   ]
  },
  {
   "cell_type": "code",
   "execution_count": 11,
   "metadata": {},
   "outputs": [
    {
     "name": "stdout",
     "output_type": "stream",
     "text": [
      "Выручка в ноябре = 25098\n"
     ]
    }
   ],
   "source": [
    "print(f\"Выручка в ноябре = {sum(list_summ[i] for i in range(len(list_date)) if list_date[i][5:7]=='11')}\")"
   ]
  },
  {
   "cell_type": "markdown",
   "metadata": {},
   "source": [
    "### 4.2 Найдите выручку компании в зависимости от месяца\n",
    "Для этого напишите функцию, которая на вход принимает список с датами и список с выручкой, <br>\n",
    "а на выходе словарь, где ключи - это месяцы, а значения - это выручка.<br>\n",
    "Используйте аннотирование типов."
   ]
  },
  {
   "cell_type": "code",
   "execution_count": 12,
   "metadata": {},
   "outputs": [
    {
     "name": "stdout",
     "output_type": "stream",
     "text": [
      "{'09': 25647, '12': 45452, '10': 28645, '11': 25098}\n"
     ]
    }
   ],
   "source": [
    "def revenue_by_month(list_d: list, list_s: list) -> dict:\n",
    "    dict_r={}\n",
    "    for i in range(len(list_d)):\n",
    "        dict_r.setdefault(list_d[i][5:7], 0)\n",
    "        dict_r[list_d[i][5:7]] += list_s[i]\n",
    "    return dict_r\n",
    "\n",
    "print(revenue_by_month(list_date, list_summ))"
   ]
  }
 ],
 "metadata": {
  "kernelspec": {
   "display_name": "Python 3.8.10 32-bit",
   "language": "python",
   "name": "python3"
  },
  "language_info": {
   "codemirror_mode": {
    "name": "ipython",
    "version": 3
   },
   "file_extension": ".py",
   "mimetype": "text/x-python",
   "name": "python",
   "nbconvert_exporter": "python",
   "pygments_lexer": "ipython3",
   "version": "3.8.10"
  },
  "orig_nbformat": 4,
  "vscode": {
   "interpreter": {
    "hash": "7a329d123903b4c57951128023de9a6a186d692eb5a1f857b66f6831ce5b77d9"
   }
  }
 },
 "nbformat": 4,
 "nbformat_minor": 2
}
